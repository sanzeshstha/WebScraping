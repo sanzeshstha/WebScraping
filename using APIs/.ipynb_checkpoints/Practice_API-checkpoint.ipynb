{
 "cells": [
  {
   "cell_type": "code",
   "execution_count": 3,
   "metadata": {},
   "outputs": [],
   "source": [
    "import requests\n",
    "import json"
   ]
  },
  {
   "cell_type": "code",
   "execution_count": 2,
   "metadata": {},
   "outputs": [],
   "source": [
    "base_url = \"https://api.exchangeratesapi.io/latest\""
   ]
  },
  {
   "cell_type": "code",
   "execution_count": 19,
   "metadata": {},
   "outputs": [],
   "source": [
    "response = requests.get(base_url)"
   ]
  },
  {
   "cell_type": "code",
   "execution_count": 20,
   "metadata": {},
   "outputs": [
    {
     "data": {
      "text/plain": [
       "200"
      ]
     },
     "execution_count": 20,
     "metadata": {},
     "output_type": "execute_result"
    }
   ],
   "source": [
    "response.status_code"
   ]
  },
  {
   "cell_type": "code",
   "execution_count": 23,
   "metadata": {},
   "outputs": [
    {
     "data": {
      "text/plain": [
       "{'rates': {'CAD': 1.5233,\n",
       "  'HKD': 8.4277,\n",
       "  'ISK': 155.8,\n",
       "  'PHP': 54.977,\n",
       "  'DKK': 7.464,\n",
       "  'HUF': 359.34,\n",
       "  'CZK': 27.183,\n",
       "  'AUD': 1.7596,\n",
       "  'RON': 4.8365,\n",
       "  'SEK': 10.9385,\n",
       "  'IDR': 17636.02,\n",
       "  'INR': 82.873,\n",
       "  'BRL': 5.6741,\n",
       "  'RUB': 82.1046,\n",
       "  'HRK': 7.6235,\n",
       "  'JPY': 118.36,\n",
       "  'THB': 35.613,\n",
       "  'CHF': 1.0557,\n",
       "  'SGD': 1.5517,\n",
       "  'PLN': 4.5442,\n",
       "  'BGN': 1.9558,\n",
       "  'TRY': 7.3798,\n",
       "  'CNY': 7.6818,\n",
       "  'NOK': 11.194,\n",
       "  'NZD': 1.8194,\n",
       "  'ZAR': 19.7624,\n",
       "  'USD': 1.0871,\n",
       "  'MXN': 26.3367,\n",
       "  'ILS': 3.9054,\n",
       "  'GBP': 0.87948,\n",
       "  'KRW': 1324.36,\n",
       "  'MYR': 4.7274},\n",
       " 'base': 'EUR',\n",
       " 'date': '2020-04-08'}"
      ]
     },
     "execution_count": 23,
     "metadata": {},
     "output_type": "execute_result"
    }
   ],
   "source": [
    "response.json()"
   ]
  },
  {
   "cell_type": "code",
   "execution_count": 27,
   "metadata": {},
   "outputs": [
    {
     "name": "stdout",
     "output_type": "stream",
     "text": [
      "{\n",
      "   \"rates\": {\n",
      "      \"CAD\": 1.5233,\n",
      "      \"HKD\": 8.4277,\n",
      "      \"ISK\": 155.8,\n",
      "      \"PHP\": 54.977,\n",
      "      \"DKK\": 7.464,\n",
      "      \"HUF\": 359.34,\n",
      "      \"CZK\": 27.183,\n",
      "      \"AUD\": 1.7596,\n",
      "      \"RON\": 4.8365,\n",
      "      \"SEK\": 10.9385,\n",
      "      \"IDR\": 17636.02,\n",
      "      \"INR\": 82.873,\n",
      "      \"BRL\": 5.6741,\n",
      "      \"RUB\": 82.1046,\n",
      "      \"HRK\": 7.6235,\n",
      "      \"JPY\": 118.36,\n",
      "      \"THB\": 35.613,\n",
      "      \"CHF\": 1.0557,\n",
      "      \"SGD\": 1.5517,\n",
      "      \"PLN\": 4.5442,\n",
      "      \"BGN\": 1.9558,\n",
      "      \"TRY\": 7.3798,\n",
      "      \"CNY\": 7.6818,\n",
      "      \"NOK\": 11.194,\n",
      "      \"NZD\": 1.8194,\n",
      "      \"ZAR\": 19.7624,\n",
      "      \"USD\": 1.0871,\n",
      "      \"MXN\": 26.3367,\n",
      "      \"ILS\": 3.9054,\n",
      "      \"GBP\": 0.87948,\n",
      "      \"KRW\": 1324.36,\n",
      "      \"MYR\": 4.7274\n",
      "   },\n",
      "   \"base\": \"EUR\",\n",
      "   \"date\": \"2020-04-08\"\n",
      "}\n"
     ]
    }
   ],
   "source": [
    "print(json.dumps(response.json(),indent = 3))"
   ]
  },
  {
   "cell_type": "code",
   "execution_count": 31,
   "metadata": {},
   "outputs": [
    {
     "data": {
      "text/plain": [
       "'https://api.exchangeratesapi.io/latest?symbols=AUD,CAD'"
      ]
     },
     "execution_count": 31,
     "metadata": {},
     "output_type": "execute_result"
    }
   ],
   "source": [
    "param_url = base_url + '?symbols=AUD,CAD'\n",
    "param_url"
   ]
  },
  {
   "cell_type": "code",
   "execution_count": 32,
   "metadata": {},
   "outputs": [],
   "source": [
    "response = requests.get(param_url)"
   ]
  },
  {
   "cell_type": "code",
   "execution_count": 34,
   "metadata": {},
   "outputs": [
    {
     "name": "stdout",
     "output_type": "stream",
     "text": [
      "{'rates': {'CAD': 1.5233, 'AUD': 1.7596}, 'base': 'EUR', 'date': '2020-04-08'}\n"
     ]
    }
   ],
   "source": [
    "print(response.json())"
   ]
  },
  {
   "cell_type": "code",
   "execution_count": 3,
   "metadata": {},
   "outputs": [
    {
     "data": {
      "text/plain": [
       "'https://api.exchangeratesapi.io/latest?symbols=AUD,INR&base=USD'"
      ]
     },
     "execution_count": 3,
     "metadata": {},
     "output_type": "execute_result"
    }
   ],
   "source": [
    "param_url = base_url + '?symbols=AUD,INR' + '&' + 'base=USD'\n",
    "param_url"
   ]
  },
  {
   "cell_type": "code",
   "execution_count": 4,
   "metadata": {},
   "outputs": [
    {
     "data": {
      "text/plain": [
       "200"
      ]
     },
     "execution_count": 4,
     "metadata": {},
     "output_type": "execute_result"
    }
   ],
   "source": [
    "response = requests.get(param_url)\n",
    "response.status_code"
   ]
  },
  {
   "cell_type": "code",
   "execution_count": 5,
   "metadata": {},
   "outputs": [
    {
     "name": "stdout",
     "output_type": "stream",
     "text": [
      "{\n",
      "    \"rates\": {\n",
      "        \"INR\": 76.2330972312,\n",
      "        \"AUD\": 1.6186183424\n",
      "    },\n",
      "    \"base\": \"USD\",\n",
      "    \"date\": \"2020-04-08\"\n",
      "}\n"
     ]
    }
   ],
   "source": [
    "print(json.dumps(response.json(),indent=4))"
   ]
  },
  {
   "cell_type": "markdown",
   "metadata": {},
   "source": [
    "## Simple Currency calculator"
   ]
  },
  {
   "cell_type": "code",
   "execution_count": 23,
   "metadata": {},
   "outputs": [
    {
     "name": "stdout",
     "output_type": "stream",
     "text": [
      "Enter the date (in format yyyy-mm-dd or type 'latest'): 2013-3-2\n",
      "Enter the base currency (convert from): NRP\n",
      "Enter the target currency (convert to): INR\n",
      "How much NRP do you want to convert: 12\n",
      "\n",
      " Error 400\n",
      "Base 'NRP' is not supported.\n"
     ]
    }
   ],
   "source": [
    "date = input(\"Enter the date (in format yyyy-mm-dd or type 'latest'): \")\n",
    "base = input(\"Enter the base currency (convert from): \")\n",
    "target = input(\"Enter the target currency (convert to): \")\n",
    "quantity = float(input(\"How much {} do you want to convert: \".format(base)))\n",
    "base_url = \"https://api.exchangeratesapi.io\"\n",
    "url = base_url + '/' + date + '?symbols=' + target + '&base=' + base\n",
    "response = requests.get(url)\n",
    "\n",
    "if (response.ok is False):\n",
    "    print(\"\\n Error {}\".format(response.status_code))\n",
    "    print(response.json()['error'])\n",
    "\n",
    "else:\n",
    "    data = response.json()\n",
    "    rate = data['rates'][target]\n",
    "    result = quantity * rate\n",
    "    print(\"\\n{0} {1} is equal to {2} {3}, based on the exchange rate on {4}\".format(quantity,base,result,target,data['date']))"
   ]
  },
  {
   "cell_type": "markdown",
   "metadata": {},
   "source": [
    "# iTunes API"
   ]
  },
  {
   "cell_type": "code",
   "execution_count": 1,
   "metadata": {},
   "outputs": [],
   "source": [
    "base_url = \"https://itunes.apple.com/search\""
   ]
  },
  {
   "cell_type": "markdown",
   "metadata": {},
   "source": [
    "# Pagination"
   ]
  },
  {
   "cell_type": "code",
   "execution_count": 1,
   "metadata": {},
   "outputs": [],
   "source": [
    "base_url = \"https://jobs.github.com/positions.json\""
   ]
  },
  {
   "cell_type": "code",
   "execution_count": 4,
   "metadata": {},
   "outputs": [
    {
     "data": {
      "text/plain": [
       "200"
      ]
     },
     "execution_count": 4,
     "metadata": {},
     "output_type": "execute_result"
    }
   ],
   "source": [
    "r = requests.get(base_url, params = {\"decription\": \"data science\", \"location\":\"los angeles\"})\n",
    "r.status_code"
   ]
  },
  {
   "cell_type": "code",
   "execution_count": 5,
   "metadata": {},
   "outputs": [
    {
     "data": {
      "text/plain": [
       "[{'id': '76fcadae-e84e-11e8-88fc-96a168773892',\n",
       "  'type': 'Full Time',\n",
       "  'url': 'https://jobs.github.com/positions/76fcadae-e84e-11e8-88fc-96a168773892',\n",
       "  'created_at': 'Wed Nov 14 20:50:03 UTC 2018',\n",
       "  'company': 'NBCUniversal',\n",
       "  'company_url': 'https://www.nbcunicareers.com/',\n",
       "  'location': 'Universal City, CA',\n",
       "  'title': 'Media Software Engineer',\n",
       "  'description': '<p>Responsibilities :</p>\\n<p>Coding at the component level and works under minimal supervision.\\nAsset Management System Administration with systems, applications and service integrations.\\nProvide proactive, regular, and professional-level communication with clients and team members alike\\nManage system integration with 3rd party providers.\\nProvide usage reports and track key metrics as required.\\nEnsure delivered solutions enable the organization to manage the asset portfolio with respect to risk, cost, control, governance, compliance and business performance objectives\\nCollaborate with stakeholders, developers, and system teams to design and maintain automation and deployment tools\\nAssist project and technology teams in troubleshooting systems\\nCreate dashboards and other tools for Project, Operations and Engineering teams to use in day-to-day monitoring and troubleshooting and enhance operational transparency within business units\\nFollow Security Best Practices\\nOccasional after hour support based on upgrades, new deployments and high-profile campaigns and/or market critical events.</p>\\n<p>Job Requirements</p>\\n<p>Knowledge/experience in relevant technologies, such as:\\nXML Scripting\\nJava/JavaScript\\nJSON Messaging\\nHTTP Protocol\\nWeb Services (SOAP &amp; REST)\\nPython, Ruby, Perl, and Smalltalk or other scripting languages preferred\\nFamiliarity with ELK Stack (Prometheus) preferred\\nAmazon Web Services technologies experience preferred\\nAsset Management Systems\\nSolid interpersonal skills with the ability to communicate and present to all levels of the organization and with external parties\\nSelf-directed, highly motivated individual who can effectively manage multiple activities, pay attention to detail and a focus on continuous improvement.\\nHigh degree of professionalism</p>\\n<p>Desired Characteristics</p>\\n<p>Scope of activities within projects include:\\nBusiness requirements, documentation &amp; gap analysis\\nCoordination of connectivity setup\\nTechnical implementation/provisioning\\nDevelop test plans, procedures and scripting for new workflows, integration and automated UI testing\\nUnderstand Process flow and data mapping\\nData preparation, deployment and analysis\\nWeb services development\\nApplication knowledge: Orchestration tools, Workflow Engines, Search Engines, BPM and transcoding.\\nDatabase experience and network administration</p>\\n',\n",
       "  'how_to_apply': '<p>If interested, please apply here: <a href=\"https://sjobs.brassring.com/TGWEbHost/jobdetails.aspx?partnerid=25354&amp;siteid=5108&amp;areq=43037BR\">https://sjobs.brassring.com/TGWEbHost/jobdetails.aspx?partnerid=25354&amp;siteid=5108&amp;areq=43037BR</a></p>\\n',\n",
       "  'company_logo': None},\n",
       " {'id': 'd5955556-de1b-11e8-97e2-45ff61609ad8',\n",
       "  'type': 'Full Time',\n",
       "  'url': 'https://jobs.github.com/positions/d5955556-de1b-11e8-97e2-45ff61609ad8',\n",
       "  'created_at': 'Thu Nov 01 21:20:36 UTC 2018',\n",
       "  'company': 'PlayVS',\n",
       "  'company_url': 'http://www.playvs.com',\n",
       "  'location': 'Santa Monica, CA',\n",
       "  'title': 'Software Engineer, Full Stack',\n",
       "  'description': '<p>PlayVS is building the infrastructure and official platform for high school esports. We work with game publishers and high school governing bodies to build and operate sanctioned leagues across the country. Our software products tie everything together, creating the world’s first full-stack sports platform. PlayVS is headquartered in Santa Monica, CA and rapidly expanding.</p>\\n<p>As an engineer, you’ll be expected to do the normal tech startup duties including:</p>\\n<ul>\\n<li>\\n<p>Writing clean, easily-maintainable code. We’re extremely proud of our lack of technical debt and want to keep it that way.</p>\\n</li>\\n<li>\\n<p>Debugging, documentation, and unit testing. Everyone loves a smooth game day.</p>\\n</li>\\n<li>\\n<p>Have a natural knack for user experience and pixel-perfect design. You should know CSS like it’s the back of your hand, and be extremely comfortable building modern responsive web apps.</p>\\n</li>\\n<li>\\n<p>Being flexible about your day-to-day tasks. We do everything from tweaking marketing pages to building the real-time match-play systems and data pipelines. You will wear many hats here.</p>\\n</li>\\n<li>\\n<p>Improving our internal tooling and engineering process by contributing your knowledge and unique background.</p>\\n</li>\\n</ul>\\n<p>What we’re looking for:</p>\\n<ul>\\n<li>\\n<p>4+ years of technical experience</p>\\n</li>\\n<li>\\n<p>Interest in gaming or esports, though no prior experience is required\\nExperience using NodeJS or NoSQL data stores like Redis, RethinkDB or Mongo</p>\\n</li>\\n<li>\\n<p>Expert developing interfaces using ReactJS</p>\\n</li>\\n<li>\\n<p>Top-notch CSS skills</p>\\n</li>\\n<li>\\n<p>Comfortable working with WebSockets</p>\\n</li>\\n<li>\\n<p>Degree in Computer Science preferred</p>\\n</li>\\n</ul>\\n<p>At PlayVS, we put a heavy emphasis on inclusiveness, diversity, and most importantly, player experience. Our team is small, scrappy, and incredibly talented. The challenges we solve on a daily basis are exciting and relevant. This role is $110K+.  If you are driven by seeing the immediate impact that your code brings, you’ll fit right in here.</p>\\n',\n",
       "  'how_to_apply': '<p>Email us at <a href=\"mailto:careers@playvs.com\">careers@playvs.com</a></p>\\n',\n",
       "  'company_logo': 'https://jobs.github.com/rails/active_storage/blobs/eyJfcmFpbHMiOnsibWVzc2FnZSI6IkJBaHBBa2xXIiwiZXhwIjpudWxsLCJwdXIiOiJibG9iX2lkIn19--02900ed15126cfa0983ebd48ddba2b07539f4c62/7f3abee5-837b-49da-93f7-b44fbe23fc0a'},\n",
       " {'id': 'c65408fa-de19-11e8-844c-e31925c0b958',\n",
       "  'type': 'Full Time',\n",
       "  'url': 'https://jobs.github.com/positions/c65408fa-de19-11e8-844c-e31925c0b958',\n",
       "  'created_at': 'Thu Nov 01 21:06:30 UTC 2018',\n",
       "  'company': 'PlayVS',\n",
       "  'company_url': 'http://www.playvs.com',\n",
       "  'location': 'Santa Monica, CA',\n",
       "  'title': 'Software Engineer, Frontend ',\n",
       "  'description': '<p>PlayVS is building the infrastructure and official platform for high school esports. We work with game publishers and high school governing bodies to build and operate sanctioned leagues across the country. Our software products tie everything together, creating the world’s first full-stack sports platform. PlayVS is headquartered in Santa Monica, CA and rapidly expanding.</p>\\n<p>As an engineer, you’ll be expected to do the normal tech startup duties including:</p>\\n<ul>\\n<li>\\n<p>Writing clean, easily-maintainable code. We’re extremely proud of our lack of technical debt and want to keep it that way.</p>\\n</li>\\n<li>\\n<p>Debugging, documentation, and unit testing. Everyone loves a smooth game day.</p>\\n</li>\\n<li>\\n<p>Have a natural knack for user experience and pixel-perfect design. You should know CSS like it’s the back of your hand, and be extremely comfortable building modern responsive web apps.</p>\\n</li>\\n<li>\\n<p>Being flexible about your day-to-day tasks. We do everything from tweaking marketing pages to building the real-time match-play systems and data pipelines. You will wear many hats here.</p>\\n</li>\\n<li>\\n<p>Improving our internal tooling and engineering process by contributing your knowledge and unique background.</p>\\n</li>\\n</ul>\\n<p>What we’re looking for:</p>\\n<ul>\\n<li>\\n<p>4+ years of technical experience</p>\\n</li>\\n<li>\\n<p>Interest in gaming or esports</p>\\n</li>\\n<li>\\n<p>Expert developing interfaces using ReactJS</p>\\n</li>\\n<li>\\n<p>Top-notch CSS skills</p>\\n</li>\\n<li>\\n<p>Comfortable working with WebSockets</p>\\n</li>\\n<li>\\n<p>Degree in Computer Science preferred</p>\\n</li>\\n</ul>\\n<p>At PlayVS, we put a heavy emphasis on inclusiveness, diversity, and most importantly, player experience. Our team is small, scrappy, and incredibly talented. The challenges we solve on a daily basis are exciting and relevant.  This role is $90k+.  If you are driven by seeing the immediate impact that your code brings, you’ll fit right in here.\\n</p>\\n',\n",
       "  'how_to_apply': '<p>Email us at <a href=\"mailto:careers@playvs.com\">careers@playvs.com</a></p>\\n',\n",
       "  'company_logo': 'https://jobs.github.com/rails/active_storage/blobs/eyJfcmFpbHMiOnsibWVzc2FnZSI6IkJBaHBBa2RXIiwiZXhwIjpudWxsLCJwdXIiOiJibG9iX2lkIn19--c006ca2e3659381100d6f6de12d331553cce4e33/2f5dd3f9-319e-4b5e-ab32-093701b04d06'},\n",
       " {'id': '1ef41916-dd5f-11e8-98aa-d336cb7192b8',\n",
       "  'type': 'Full Time',\n",
       "  'url': 'https://jobs.github.com/positions/1ef41916-dd5f-11e8-98aa-d336cb7192b8',\n",
       "  'created_at': 'Wed Oct 31 22:54:08 UTC 2018',\n",
       "  'company': 'playvs-inc',\n",
       "  'company_url': None,\n",
       "  'location': 'Santa Monica, CA',\n",
       "  'title': 'Software Engineer, Backend',\n",
       "  'description': '<p>PlayVS is building the infrastructure and official platform for high school esports. We work with game publishers and high school governing bodies to build and operate sanctioned leagues across the country. Our software products tie everything together, creating the world’s first full-stack sports platform. PlayVS is headquartered in Santa Monica, CA and rapidly expanding.</p>\\n<p>As an engineer, you’ll be expected to do the normal tech startup duties including:</p>\\n<ul>\\n<li>\\n<p>Writing clean, easily-maintainable code. We’re extremely proud of our lack of technical debt and want to keep it that way.</p>\\n</li>\\n<li>\\n<p>Debugging, documentation, and unit testing. Everyone loves a smooth game day.</p>\\n</li>\\n<li>\\n<p>Building and integrating APIs</p>\\n</li>\\n<li>\\n<p>Being flexible about your day-to-day tasks. We do everything from tweaking marketing pages to building the real-time match-play systems and data pipelines.</p>\\n</li>\\n<li>\\n<p>Improving our internal tooling and engineering process by contributing your knowledge and unique background.</p>\\n</li>\\n</ul>\\n<p>What we’re looking for:</p>\\n<ul>\\n<li>\\n<p>4+ years of technical experience</p>\\n</li>\\n<li>\\n<p>Interest in gaming or esports</p>\\n</li>\\n<li>\\n<p>Experience using NodeJS or NoSQL data stores like Redis, RethinkDB or Mongo</p>\\n</li>\\n<li>\\n<p>Comfortable working with WebSockets</p>\\n</li>\\n<li>\\n<p>Degree in Computer Science preferred</p>\\n</li>\\n</ul>\\n<p>At PlayVS, we put a heavy emphasis on inclusiveness, diversity, and most importantly, player experience. Our team is small, scrappy, and incredibly talented. The challenges we solve on a daily basis are exciting and relevant. This role is 90k and up. If you are driven by seeing the immediate impact that your code brings, you’ll fit right in here.</p>\\n',\n",
       "  'how_to_apply': '<p>Please email us at <a href=\"mailto:careers@playvs.com\">careers@playvs.com</a></p>\\n',\n",
       "  'company_logo': 'https://jobs.github.com/rails/active_storage/blobs/eyJfcmFpbHMiOnsibWVzc2FnZSI6IkJBaHBBaXBXIiwiZXhwIjpudWxsLCJwdXIiOiJibG9iX2lkIn19--13c421e8ce9526b4489d8262c8e069636a4a6285/967eb69a-ee1a-490c-b2cc-8ea54070fc36'},\n",
       " {'id': '9bd2d6fa-d7ee-11e8-9f5e-c14b0048f133',\n",
       "  'type': 'Full Time',\n",
       "  'url': 'https://jobs.github.com/positions/9bd2d6fa-d7ee-11e8-9f5e-c14b0048f133',\n",
       "  'created_at': 'Thu Oct 25 00:41:02 UTC 2018',\n",
       "  'company': 'Hello Design',\n",
       "  'company_url': 'https://www.hellodesign.com',\n",
       "  'location': 'Los Angeles, CA',\n",
       "  'title': 'Full Stack Developer',\n",
       "  'description': '<p>Hello is looking for a Full Stack Developer to help us make the future. Build award-winning interactive systems and collaborate with multi-disciplinary teams consisting of strategists, designers, and fellow programmers. We are looking for technologists who are passionate about their craft and have a drive for discovery and innovation.</p>\\n<p>Experience</p>\\n<ul>\\n<li>Can solve a problem in two ways</li>\\n<li>Quickly learn new languages and software</li>\\n<li>Master of the MVC and MVVC design pattern</li>\\n<li>Expert in PHP, Python, and/or Node.js</li>\\n<li>Experienced in schemaless databases such as Mongo, Couch, Dynamo</li>\\n<li>Can work with multiple content management systems and speak to their strategies, advantages, and disadvantages</li>\\n<li>Knowledgeable with caching systems such as Redis, Memcache</li>\\n<li>Familiar with AWS products such as EC2, ElastiCache, ECS, CloudFront, SQS, Elastic Transcoder, SNS</li>\\n<li>Have a working knowledge of JS Frameworks such as Backbone, Ember or AngularJS</li>\\n<li>Comfortable working in a Linux environment</li>\\n</ul>\\n<p>Attributes</p>\\n<ul>\\n<li>Detailed and organized</li>\\n<li>Excellent communicator, written an verbal</li>\\n<li>Able to manage multiple projects simultaneously</li>\\n<li>Responsible and capable of meeting tight deadlines</li>\\n<li>Enjoy working in a collaborative environment</li>\\n<li>Passion for quality design and innovation</li>\\n<li>A thirst for learning</li>\\n</ul>\\n<p>Hello is a creative agency driven to craft worthy experiences. We believe everything will be digital—surrounding us like the air we breathe. Our clients include Facebook, Nike, Tillamook, Sonos, Murad, and Supercell. Our work: hellodesign.com</p>\\n<p>We offer competitive salary, 100% employer paid health and dental, 401(k) match, paid vacation, holidays including winter break, gym discounts, fully stocked snack rack, freshly ground coffee, and really cute dogs</p>\\n',\n",
       "  'how_to_apply': '<p>Please apply using <a href=\"https://www.linkedin.com/jobs/view/932516853\">LinkedIn</a></p>\\n<p>Only qualified applicants will be called for an interview. Please no phone calls or office visits.</p>\\n',\n",
       "  'company_logo': 'https://jobs.github.com/rails/active_storage/blobs/eyJfcmFpbHMiOnsibWVzc2FnZSI6IkJBaHBBdDVYIiwiZXhwIjpudWxsLCJwdXIiOiJibG9iX2lkIn19--7389dcbcfe7092331d653cc1f0caa3a5dca2e329/f9c740fb-f104-4833-a38b-d53bdd3930c5'}]"
      ]
     },
     "execution_count": 5,
     "metadata": {},
     "output_type": "execute_result"
    }
   ],
   "source": [
    "r.json()"
   ]
  },
  {
   "cell_type": "code",
   "execution_count": 6,
   "metadata": {},
   "outputs": [
    {
     "data": {
      "text/plain": [
       "5"
      ]
     },
     "execution_count": 6,
     "metadata": {},
     "output_type": "execute_result"
    }
   ],
   "source": [
    "len(r.json())"
   ]
  },
  {
   "cell_type": "code",
   "execution_count": 13,
   "metadata": {},
   "outputs": [],
   "source": [
    "r= requests.get(base_url,params={\"page\":4})"
   ]
  },
  {
   "cell_type": "code",
   "execution_count": 14,
   "metadata": {},
   "outputs": [
    {
     "data": {
      "text/plain": [
       "200"
      ]
     },
     "execution_count": 14,
     "metadata": {},
     "output_type": "execute_result"
    }
   ],
   "source": [
    "r.status_code"
   ]
  },
  {
   "cell_type": "code",
   "execution_count": 15,
   "metadata": {},
   "outputs": [
    {
     "data": {
      "text/plain": [
       "37"
      ]
     },
     "execution_count": 15,
     "metadata": {},
     "output_type": "execute_result"
    }
   ],
   "source": [
    "len(r.json())"
   ]
  },
  {
   "cell_type": "code",
   "execution_count": 20,
   "metadata": {},
   "outputs": [],
   "source": [
    "results = []\n",
    "for i in range(5):\n",
    "    r=requests.get(base_url,params={\"page\": i+1})\n",
    "    \n",
    "    if len(r.json())==0:\n",
    "        break\n",
    "    else:\n",
    "        results.extend(r.json())"
   ]
  },
  {
   "cell_type": "code",
   "execution_count": 21,
   "metadata": {},
   "outputs": [
    {
     "data": {
      "text/plain": [
       "187"
      ]
     },
     "execution_count": 21,
     "metadata": {},
     "output_type": "execute_result"
    }
   ],
   "source": [
    "len(results)"
   ]
  }
 ],
 "metadata": {
  "kernelspec": {
   "display_name": "Python 3",
   "language": "python",
   "name": "python3"
  },
  "language_info": {
   "codemirror_mode": {
    "name": "ipython",
    "version": 3
   },
   "file_extension": ".py",
   "mimetype": "text/x-python",
   "name": "python",
   "nbconvert_exporter": "python",
   "pygments_lexer": "ipython3",
   "version": "3.7.5"
  }
 },
 "nbformat": 4,
 "nbformat_minor": 4
}
